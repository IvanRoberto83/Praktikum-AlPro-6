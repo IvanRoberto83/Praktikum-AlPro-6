{
  "nbformat": 4,
  "nbformat_minor": 0,
  "metadata": {
    "colab": {
      "provenance": []
    },
    "kernelspec": {
      "name": "python3",
      "display_name": "Python 3"
    },
    "language_info": {
      "name": "python"
    }
  },
  "cells": [
    {
      "cell_type": "code",
      "execution_count": 1,
      "metadata": {
        "colab": {
          "base_uri": "https://localhost:8080/"
        },
        "id": "xoQS6JXYchvI",
        "outputId": "3e1d937e-7187-4f94-9a2b-a23fc1d5f4fb"
      },
      "outputs": [
        {
          "output_type": "stream",
          "name": "stdout",
          "text": [
            "Masukkan angka : 21\n",
            "Prima terdekatnya = 19\n"
          ]
        }
      ],
      "source": [
        "#Soal 1\n",
        "\n",
        "n = int(input(\"Masukkan angka : \"))\n",
        "\n",
        "for prima_terdekat in range(n-1, 1, -1):\n",
        "    for angka in range(2, prima_terdekat):\n",
        "        if prima_terdekat % angka == 0:\n",
        "            break\n",
        "    else:\n",
        "        print(f\"Prima terdekatnya = {prima_terdekat}\")\n",
        "        break"
      ]
    },
    {
      "cell_type": "code",
      "source": [
        "#Soal 2\n",
        "\n",
        "n = int(input(\"Masukkan n : \"))\n",
        "\n",
        "for x in range(n,0,-1):\n",
        "    total = 1\n",
        "\n",
        "    for hasil in range(x,0,-1):\n",
        "        total *= hasil\n",
        "    print(total, end=\" \")\n",
        "\n",
        "    for angka in range(x,0,-1):\n",
        "        print(angka, end=\" \")\n",
        "\n",
        "    print(\"\")"
      ],
      "metadata": {
        "colab": {
          "base_uri": "https://localhost:8080/"
        },
        "id": "M1LvXEAudlbz",
        "outputId": "ea126d0d-e489-48f7-aba6-8ba080a539a4"
      },
      "execution_count": 2,
      "outputs": [
        {
          "output_type": "stream",
          "name": "stdout",
          "text": [
            "Masukkan n : 6\n",
            "720 6 5 4 3 2 1 \n",
            "120 5 4 3 2 1 \n",
            "24 4 3 2 1 \n",
            "6 3 2 1 \n",
            "2 2 1 \n",
            "1 1 \n"
          ]
        }
      ]
    },
    {
      "cell_type": "code",
      "source": [
        "#Soal 3\n",
        "\n",
        "tinggi = int(input(\"Masukkan tinggi : \"))\n",
        "lebar = int(input(\"Masukkan lebar : \"))\n",
        "\n",
        "angka = 1\n",
        "\n",
        "for tinggi in range(1,tinggi+1):\n",
        "    for lebar in range(1,lebar+1):\n",
        "        print(angka, end=\" \")\n",
        "        angka+=1\n",
        "    print(\"\")"
      ],
      "metadata": {
        "colab": {
          "base_uri": "https://localhost:8080/"
        },
        "id": "TLShORHHdrYv",
        "outputId": "c929ac80-8dca-4414-e046-f95337a33c25"
      },
      "execution_count": 3,
      "outputs": [
        {
          "output_type": "stream",
          "name": "stdout",
          "text": [
            "Masukkan tinggi : 5\n",
            "Masukkan lebar : 4\n",
            "1 2 3 4 \n",
            "5 6 7 8 \n",
            "9 10 11 12 \n",
            "13 14 15 16 \n",
            "17 18 19 20 \n"
          ]
        }
      ]
    }
  ]
}